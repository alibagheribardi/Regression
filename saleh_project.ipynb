{
  "nbformat": 4,
  "nbformat_minor": 0,
  "metadata": {
    "colab": {
      "provenance": [],
      "authorship_tag": "ABX9TyNFtDLH1e8ZR4GNBLRWVEb1",
      "include_colab_link": true
    },
    "kernelspec": {
      "name": "python3",
      "display_name": "Python 3"
    },
    "language_info": {
      "name": "python"
    }
  },
  "cells": [
    {
      "cell_type": "markdown",
      "metadata": {
        "id": "view-in-github",
        "colab_type": "text"
      },
      "source": [
        "<a href=\"https://colab.research.google.com/github/alibagheribardi/Regression/blob/main/saleh_project.ipynb\" target=\"_parent\"><img src=\"https://colab.research.google.com/assets/colab-badge.svg\" alt=\"Open In Colab\"/></a>"
      ]
    },
    {
      "cell_type": "code",
      "execution_count": null,
      "metadata": {
        "colab": {
          "base_uri": "https://localhost:8080/"
        },
        "id": "S0nyChve7Ofk",
        "outputId": "c1aed71b-36c8-4da7-abe9-d4188795e48d"
      },
      "outputs": [
        {
          "output_type": "execute_result",
          "data": {
            "text/plain": [
              "array([[ 1.+0.j,  0.+0.j, -0.+0.j,  0.+0.j,  0.+0.j,  0.+0.j,  0.+0.j,\n",
              "         0.+0.j,  0.+0.j,  0.+0.j,  0.+0.j,  0.+0.j,  0.+0.j],\n",
              "       [ 0.+0.j,  1.+0.j,  0.+0.j, -0.+0.j, -0.+0.j,  0.+0.j,  0.+0.j,\n",
              "         0.+0.j,  0.+0.j,  0.+0.j, -0.+0.j,  0.+0.j,  0.+0.j],\n",
              "       [ 0.+0.j, -0.+0.j,  1.+0.j,  0.+0.j,  0.+0.j,  0.+0.j,  0.+0.j,\n",
              "         0.+0.j,  0.+0.j,  0.+0.j,  0.+0.j, -0.+0.j, -0.+0.j],\n",
              "       [ 0.+0.j, -0.+0.j,  0.+0.j,  1.+0.j,  0.+0.j,  0.+0.j,  0.+0.j,\n",
              "         0.+0.j,  0.+0.j,  0.+0.j,  0.+0.j,  0.+0.j, -0.+0.j],\n",
              "       [ 0.+0.j,  0.+0.j, -0.+0.j,  0.+0.j, -1.+0.j, -0.+0.j,  0.+0.j,\n",
              "         0.+0.j,  0.+0.j, -0.+0.j,  0.+0.j,  0.+0.j,  0.+0.j],\n",
              "       [ 0.+0.j,  0.+0.j, -0.+0.j,  0.+0.j,  0.+0.j, -1.+0.j,  0.+0.j,\n",
              "         0.+0.j,  0.+0.j, -0.+0.j,  0.+0.j,  0.+0.j,  0.+0.j],\n",
              "       [ 0.+0.j,  0.+0.j, -0.+0.j,  0.+0.j,  0.+0.j, -0.+0.j, -1.+0.j,\n",
              "        -0.+0.j,  0.+0.j, -0.+0.j, -0.+0.j,  0.+0.j,  0.+0.j],\n",
              "       [ 0.+0.j,  0.+0.j,  0.+0.j,  0.+0.j,  0.+0.j,  0.+0.j, -0.+0.j,\n",
              "         0.+1.j, -0.+0.j,  0.+0.j,  0.+0.j,  0.+0.j, -0.+0.j],\n",
              "       [ 0.+0.j,  0.+0.j,  0.+0.j,  0.+0.j,  0.+0.j,  0.+0.j, -0.+0.j,\n",
              "        -0.+0.j,  0.+1.j,  0.+0.j,  0.+0.j,  0.+0.j, -0.+0.j],\n",
              "       [ 0.+0.j,  0.+0.j,  0.+0.j,  0.+0.j,  0.+0.j,  0.+0.j, -0.+0.j,\n",
              "        -0.+0.j, -0.+0.j,  0.+1.j,  0.+0.j,  0.+0.j, -0.+0.j],\n",
              "       [ 0.+0.j, -0.+0.j,  0.+0.j,  0.+0.j,  0.+0.j,  0.+0.j,  0.+0.j,\n",
              "         0.+0.j, -0.+0.j,  0.+0.j,  0.-1.j,  0.+0.j,  0.+0.j],\n",
              "       [-0.+0.j, -0.+0.j, -0.+0.j,  0.+0.j,  0.+0.j,  0.+0.j,  0.+0.j,\n",
              "         0.+0.j,  0.+0.j, -0.+0.j,  0.+0.j,  0.-1.j,  0.+0.j],\n",
              "       [-0.+0.j,  0.+0.j,  0.+0.j,  0.+0.j,  0.+0.j,  0.+0.j, -0.+0.j,\n",
              "        -0.+0.j,  0.+0.j, -0.+0.j,  0.+0.j,  0.+0.j,  0.-1.j]])"
            ]
          },
          "metadata": {},
          "execution_count": 26
        }
      ],
      "source": [
        "import numpy as np\n",
        "from scipy.linalg import block_diag\n",
        "import matplotlib.pyplot as plt\n",
        "\n",
        "\n",
        "N=13\n",
        "\n",
        "\n",
        "w = np.exp((2j * np.pi) / N)\n",
        "\n",
        "F = (1 / np.sqrt(N)) * np.exp((-2j * np.pi / N) * np.outer(np.arange(N), np.arange(N)))\n",
        "\n",
        "\n",
        "# Construct matrices\n",
        "J = np.eye(N - 1)[::-1]\n",
        "JJ = block_diag(np.ones(1), J)\n",
        "I = np.eye(N)\n",
        "\n",
        "# Compute projection matrices\n",
        "P_plus1 = (1/4) * (I + JJ) + (1/4) * (I + JJ) @ F\n",
        "P_minus1 = (1/4) * (I + JJ) - (1/4) * (I + JJ) @ F\n",
        "P_plusi = (1/4) * (I - JJ) - 1j * (1/4) * (I - JJ) @ F\n",
        "P_minusi = (1/4) * (I - JJ) + 1j * (1/4) * (I - JJ) @ F\n",
        "\n",
        "# Extract eigenvectors\n",
        "m = (N - 1) // 4\n",
        "V_plus1 = P_plus1[:, :m+1]\n",
        "V_minus1 = P_minus1[:, :m]\n",
        "V_plusi = P_plusi[:, 1:m+1]\n",
        "V_minusi = P_minusi[:, 1:m+1]\n",
        "\n",
        "\n",
        "eigvecs_fourier = np.hstack([V_plus1, V_minus1, V_plusi, V_minusi])\n",
        "\n",
        "result = np.linalg.inv(eigvecs_fourier) @ F  @ eigvecs_fourier\n",
        "real = np.round( np.real(result) ,2 )\n",
        "image =np.round( np.imag(result) ,2 )\n",
        "Fourier_check = real + 1j* image"
      ]
    },
    {
      "cell_type": "code",
      "source": [
        "import numpy as np\n",
        "import matplotlib.pyplot as plt\n",
        "\n",
        "m=(N-1) // 2\n",
        "\n",
        "G = (1 / np.sqrt(N)) * np.exp((-2j * np.pi / N) * np.outer(np.arange(N)+0.5, np.arange(N)+0.5))\n",
        "G4= np.linalg.matrix_power(G,4)\n",
        "real = np.round( np.real(G4) ,2 )\n",
        "image =np.round( np.imag(G4) ,2 )\n",
        "check_G4 = real +1j*image\n",
        "check_G4\n",
        "\n",
        "\n",
        "\n",
        "k = np.arange(m)\n",
        "l = np.arange(m)\n",
        "angles = ((2 * k[:, None] + 1) * (2 * l + 1) * np.pi) / (2 * N)\n",
        "C = (2 / np.sqrt(N)) * np.cos(angles)\n",
        "\n",
        "check_C2 = np.round( (C@C) ,2 )\n",
        "check_C2\n",
        "\n",
        "\n",
        "k = np.arange(m + 1)\n",
        "l = np.arange(m + 1)\n",
        "angles = ((2 * k[:, None] + 1) * (2 * l + 1) * np.pi) / (2 * N)\n",
        "S = (2 / np.sqrt(N)) * np.sin(angles)\n",
        "\n",
        "check_S2 = np.round( (S@S) ,2 )\n",
        "check_S2\n"
      ],
      "metadata": {
        "id": "H9zDQwQz7_5z",
        "colab": {
          "base_uri": "https://localhost:8080/"
        },
        "outputId": "5997bbd4-f1c5-4138-a8cb-a3e50669042b"
      },
      "execution_count": null,
      "outputs": [
        {
          "output_type": "execute_result",
          "data": {
            "text/plain": [
              "array([[ 1.15, -0.15,  0.15, -0.15,  0.15, -0.15,  0.15],\n",
              "       [-0.15,  1.15, -0.15,  0.15, -0.15,  0.15, -0.15],\n",
              "       [ 0.15, -0.15,  1.15, -0.15,  0.15, -0.15,  0.15],\n",
              "       [-0.15,  0.15, -0.15,  1.15, -0.15,  0.15, -0.15],\n",
              "       [ 0.15, -0.15,  0.15, -0.15,  1.15, -0.15,  0.15],\n",
              "       [-0.15,  0.15, -0.15,  0.15, -0.15,  1.15, -0.15],\n",
              "       [ 0.15, -0.15,  0.15, -0.15,  0.15, -0.15,  2.15]])"
            ]
          },
          "metadata": {},
          "execution_count": 30
        }
      ]
    },
    {
      "cell_type": "code",
      "source": [
        "I = np.eye(m)\n",
        "C_p = C + I\n",
        "C_m = C - I\n",
        "\n",
        "p=m//2\n",
        "v_i = C_p[:, 0:p]\n",
        "u_i = C_m[:, 0:p]\n",
        "\n",
        "J = np.eye(m)[::-1]\n",
        "J_v_i = J @ v_i\n",
        "J_u_i = J @ u_i\n",
        "\n",
        "zero = np.zeros((1, p))\n",
        "eigvec1 = np.concatenate([v_i, zero, -J_v_i], axis=0)\n",
        "eigevec_minues1 = np.concatenate([u_i, zero, -J_u_i], axis=0)\n",
        "\n",
        "\n",
        "check_1 = G @ eigvec1 -eigvec1\n",
        "real = np.round( np.real(check) ,2 )\n",
        "image =np.round( np.imag(check) ,2 )\n",
        "real + 1j* image\n",
        "\n",
        "check_minues1 = G @ eigevec_minues1  + eigevec_minues1\n",
        "real = np.round( np.real(check_minues1) ,2 )\n",
        "image =np.round( np.imag(check_minues1) ,2 )\n",
        "real + 1j* image\n"
      ],
      "metadata": {
        "colab": {
          "base_uri": "https://localhost:8080/"
        },
        "id": "cpXFmchUivwO",
        "outputId": "e0116284-f807-41a4-8861-8e260592148a"
      },
      "execution_count": null,
      "outputs": [
        {
          "output_type": "execute_result",
          "data": {
            "text/plain": [
              "array([[ 0.+0.j,  0.+0.j, -0.+0.j],\n",
              "       [-0.+0.j,  0.+0.j,  0.+0.j],\n",
              "       [ 0.+0.j,  0.+0.j,  0.+0.j],\n",
              "       [ 0.+0.j,  0.+0.j,  0.+0.j],\n",
              "       [ 0.+0.j,  0.+0.j, -0.+0.j],\n",
              "       [ 0.+0.j,  0.+0.j,  0.+0.j],\n",
              "       [ 0.+0.j, -0.+0.j, -0.+0.j],\n",
              "       [ 0.+0.j, -0.+0.j,  0.+0.j],\n",
              "       [ 0.+0.j, -0.+0.j,  0.+0.j],\n",
              "       [ 0.+0.j, -0.+0.j,  0.+0.j],\n",
              "       [ 0.+0.j,  0.+0.j, -0.+0.j],\n",
              "       [ 0.+0.j,  0.+0.j,  0.+0.j],\n",
              "       [-0.+0.j,  0.+0.j,  0.+0.j]])"
            ]
          },
          "metadata": {},
          "execution_count": 34
        }
      ]
    },
    {
      "cell_type": "code",
      "source": [
        "D = np.eye(S.shape[0])\n",
        "D[-1, -1] = 2\n",
        "\n",
        "S_p = S + D\n",
        "S_m = S - D\n",
        "\n",
        "U_s = S_p[:, 0:p]\n",
        "V_s = S_m[:, 0:p]\n",
        "last_col = S_p[:, -1]\n",
        "\n",
        "J = np.eye(m+1)[::-1]\n",
        "J = J[1:,:]\n",
        "\n",
        "UU_s = J @ U_s\n",
        "VV_s = J @ V_s\n",
        "joint_col = J @ last_col\n",
        "\n",
        "eigen_veci =  np.concatenate([U_s, UU_s], axis=0)\n",
        "eigen_vec_minuesi = np.concatenate([V_s, VV_s], axis=0)\n",
        "new_joint = np.concatenate([last_col, joint_col], axis=0)\n",
        "\n",
        "eigbasis_G = np.concatenate([eigvec1, eigevec_minues1, eigen_veci, new_joint[:, None], eigen_vec_minuesi], axis=1)\n",
        "\n",
        "check = np.linalg.inv(eigbasis_G) @ G @ eigbasis_G\n",
        "real = np.round( np.real(check) ,2 )\n",
        "image =np.round( np.imag(check) ,2 )\n",
        "real + 1j* image\n"
      ],
      "metadata": {
        "colab": {
          "base_uri": "https://localhost:8080/"
        },
        "id": "ykvqm_PQjbc_",
        "outputId": "3944591a-448e-495d-d01f-d545d1eca4a9"
      },
      "execution_count": null,
      "outputs": [
        {
          "output_type": "execute_result",
          "data": {
            "text/plain": [
              "array([[ 1.+0.j, -0.+0.j,  0.+0.j, -0.+0.j,  0.+0.j, -0.+0.j, -0.+0.j,\n",
              "        -0.+0.j,  0.+0.j,  0.+0.j,  0.+0.j,  0.+0.j,  0.+0.j],\n",
              "       [ 0.+0.j,  1.+0.j,  0.+0.j,  0.+0.j,  0.+0.j,  0.+0.j,  0.+0.j,\n",
              "         0.+0.j,  0.+0.j,  0.+0.j,  0.+0.j, -0.+0.j,  0.+0.j],\n",
              "       [-0.+0.j, -0.+0.j,  1.+0.j,  0.+0.j, -0.+0.j,  0.+0.j,  0.+0.j,\n",
              "         0.+0.j, -0.+0.j, -0.+0.j,  0.+0.j,  0.+0.j,  0.+0.j],\n",
              "       [-0.+0.j,  0.+0.j,  0.+0.j, -1.+0.j,  0.+0.j, -0.+0.j,  0.+0.j,\n",
              "        -0.+0.j, -0.+0.j,  0.+0.j,  0.+0.j, -0.+0.j,  0.+0.j],\n",
              "       [-0.+0.j,  0.+0.j,  0.+0.j,  0.+0.j, -1.+0.j, -0.+0.j,  0.+0.j,\n",
              "         0.+0.j, -0.+0.j,  0.+0.j,  0.+0.j,  0.+0.j,  0.+0.j],\n",
              "       [-0.+0.j,  0.+0.j,  0.+0.j,  0.+0.j,  0.+0.j, -1.+0.j,  0.+0.j,\n",
              "         0.+0.j, -0.+0.j,  0.+0.j,  0.+0.j, -0.+0.j,  0.+0.j],\n",
              "       [-0.+0.j,  0.+0.j, -0.+0.j,  0.+0.j, -0.+0.j,  0.+0.j,  0.-1.j,\n",
              "         0.+0.j,  0.+0.j,  0.+0.j, -0.+0.j,  0.+0.j, -0.+0.j],\n",
              "       [ 0.+0.j, -0.+0.j,  0.+0.j,  0.+0.j,  0.+0.j,  0.+0.j,  0.+0.j,\n",
              "         0.-1.j,  0.+0.j,  0.+0.j,  0.+0.j, -0.+0.j,  0.+0.j],\n",
              "       [ 0.+0.j,  0.+0.j, -0.+0.j, -0.+0.j,  0.+0.j,  0.+0.j, -0.+0.j,\n",
              "         0.+0.j,  0.-1.j,  0.+0.j,  0.+0.j,  0.+0.j,  0.+0.j],\n",
              "       [ 0.+0.j,  0.+0.j,  0.+0.j,  0.+0.j, -0.+0.j, -0.+0.j,  0.+0.j,\n",
              "        -0.+0.j, -0.+0.j,  0.-1.j,  0.+0.j, -0.+0.j,  0.+0.j],\n",
              "       [ 0.+0.j, -0.+0.j,  0.+0.j,  0.+0.j, -0.+0.j,  0.+0.j, -0.+0.j,\n",
              "         0.+0.j,  0.+0.j,  0.+0.j,  0.+1.j,  0.+0.j,  0.+0.j],\n",
              "       [-0.+0.j,  0.+0.j,  0.+0.j,  0.+0.j,  0.+0.j,  0.+0.j,  0.+0.j,\n",
              "         0.+0.j,  0.+0.j,  0.+0.j, -0.+0.j,  0.+1.j,  0.+0.j],\n",
              "       [ 0.+0.j,  0.+0.j,  0.+0.j,  0.+0.j,  0.+0.j,  0.+0.j,  0.+0.j,\n",
              "         0.+0.j,  0.+0.j,  0.+0.j,  0.+0.j,  0.+0.j,  0.+1.j]])"
            ]
          },
          "metadata": {},
          "execution_count": 37
        }
      ]
    },
    {
      "cell_type": "code",
      "source": [
        "entries =  np.array([1 if i % 2 == 0 else -1 for i in range(N)])\n",
        "D = np.diag(entries)\n",
        "\n",
        "T =  np.zeros((N,N))\n",
        "T[0,-1]=1\n",
        "T[1: , :-1] = np.eye(N-1)\n",
        "\n",
        "eigvec_GtoF = np.linalg.matrix_power(T , m+1) @ D @ eigbasis_G\n",
        "\n",
        "check = np.linalg.inv(eigvec_GtoF) @ F @ eigvec_GtoF\n",
        "real = np.round( np.real(check) ,2 )\n",
        "image =np.round( np.imag(check) ,2 )\n",
        "real + 1j* image\n",
        "\n",
        "T @ np.transpose(T)"
      ],
      "metadata": {
        "colab": {
          "base_uri": "https://localhost:8080/"
        },
        "id": "t_wmUoEJmNep",
        "outputId": "faca9ece-7964-450f-fbe0-5428567980db"
      },
      "execution_count": 51,
      "outputs": [
        {
          "output_type": "execute_result",
          "data": {
            "text/plain": [
              "array([[1., 0., 0., 0., 0., 0., 0., 0., 0., 0., 0., 0., 0.],\n",
              "       [0., 1., 0., 0., 0., 0., 0., 0., 0., 0., 0., 0., 0.],\n",
              "       [0., 0., 1., 0., 0., 0., 0., 0., 0., 0., 0., 0., 0.],\n",
              "       [0., 0., 0., 1., 0., 0., 0., 0., 0., 0., 0., 0., 0.],\n",
              "       [0., 0., 0., 0., 1., 0., 0., 0., 0., 0., 0., 0., 0.],\n",
              "       [0., 0., 0., 0., 0., 1., 0., 0., 0., 0., 0., 0., 0.],\n",
              "       [0., 0., 0., 0., 0., 0., 1., 0., 0., 0., 0., 0., 0.],\n",
              "       [0., 0., 0., 0., 0., 0., 0., 1., 0., 0., 0., 0., 0.],\n",
              "       [0., 0., 0., 0., 0., 0., 0., 0., 1., 0., 0., 0., 0.],\n",
              "       [0., 0., 0., 0., 0., 0., 0., 0., 0., 1., 0., 0., 0.],\n",
              "       [0., 0., 0., 0., 0., 0., 0., 0., 0., 0., 1., 0., 0.],\n",
              "       [0., 0., 0., 0., 0., 0., 0., 0., 0., 0., 0., 1., 0.],\n",
              "       [0., 0., 0., 0., 0., 0., 0., 0., 0., 0., 0., 0., 1.]])"
            ]
          },
          "metadata": {},
          "execution_count": 51
        }
      ]
    },
    {
      "cell_type": "code",
      "source": [
        "q = N //2\n",
        "\n",
        "Tq =np.linalg.matrix_power(T, q)\n",
        "Tq_inv =  np.transpose(Tq)\n",
        "\n",
        "eig_centered = np.linalg.matrix_power(T, q) @ eigvec_GtoF\n",
        "centered_fourier  = Tq @ F @ Tq_inv\n",
        "\n",
        "check = np.linalg.matrix_power( centered_fourier,4)\n",
        "real = np.round( np.real(check) ,2 )\n",
        "image =np.round( np.imag(check) ,2 )\n",
        "real + 1j* image\n",
        "\n",
        "check = np.linalg.inv(eig_centered) @ centered_fourier @ eig_centered\n",
        "real = np.round( np.real(check) ,2 )\n",
        "image =np.round( np.imag(check) ,2 )\n",
        "real + 1j* image"
      ],
      "metadata": {
        "id": "3dp5wvopLbJL",
        "colab": {
          "base_uri": "https://localhost:8080/"
        },
        "outputId": "e82dbfdd-45b6-4d67-fb2e-d5799547dfd4"
      },
      "execution_count": 61,
      "outputs": [
        {
          "output_type": "execute_result",
          "data": {
            "text/plain": [
              "array([[ 0.+1.j,  0.+0.j, -0.+0.j, -0.+0.j,  0.+0.j, -0.+0.j,  0.+0.j,\n",
              "         0.+0.j, -0.+0.j, -0.+0.j, -0.+0.j, -0.+0.j,  0.+0.j],\n",
              "       [ 0.+0.j,  0.+1.j,  0.+0.j, -0.+0.j,  0.+0.j,  0.+0.j,  0.+0.j,\n",
              "        -0.+0.j,  0.+0.j,  0.+0.j,  0.+0.j,  0.+0.j,  0.+0.j],\n",
              "       [-0.+0.j, -0.+0.j,  0.+1.j,  0.+0.j,  0.+0.j,  0.+0.j,  0.+0.j,\n",
              "        -0.+0.j,  0.+0.j,  0.+0.j,  0.+0.j,  0.+0.j, -0.+0.j],\n",
              "       [ 0.+0.j,  0.+0.j,  0.+0.j,  0.-1.j, -0.+0.j, -0.+0.j,  0.+0.j,\n",
              "         0.+0.j,  0.+0.j, -0.+0.j,  0.+0.j, -0.+0.j,  0.+0.j],\n",
              "       [ 0.+0.j,  0.+0.j,  0.+0.j,  0.+0.j,  0.-1.j,  0.+0.j,  0.+0.j,\n",
              "         0.+0.j,  0.+0.j, -0.+0.j,  0.+0.j, -0.+0.j,  0.+0.j],\n",
              "       [ 0.+0.j,  0.+0.j,  0.+0.j,  0.+0.j, -0.+0.j,  0.-1.j,  0.+0.j,\n",
              "         0.+0.j,  0.+0.j, -0.+0.j,  0.+0.j, -0.+0.j,  0.+0.j],\n",
              "       [ 0.+0.j,  0.+0.j,  0.+0.j,  0.+0.j, -0.+0.j,  0.+0.j,  1.+0.j,\n",
              "         0.+0.j,  0.+0.j,  0.+0.j, -0.+0.j, -0.+0.j,  0.+0.j],\n",
              "       [ 0.+0.j,  0.+0.j,  0.+0.j,  0.+0.j, -0.+0.j, -0.+0.j,  0.+0.j,\n",
              "         1.+0.j,  0.+0.j,  0.+0.j,  0.+0.j,  0.+0.j,  0.+0.j],\n",
              "       [ 0.+0.j,  0.+0.j,  0.+0.j, -0.+0.j,  0.+0.j,  0.+0.j,  0.+0.j,\n",
              "         0.+0.j,  1.+0.j, -0.+0.j,  0.+0.j,  0.+0.j,  0.+0.j],\n",
              "       [ 0.+0.j,  0.+0.j,  0.+0.j,  0.+0.j, -0.+0.j,  0.+0.j,  0.+0.j,\n",
              "         0.+0.j, -0.+0.j,  1.+0.j,  0.+0.j,  0.+0.j,  0.+0.j],\n",
              "       [ 0.+0.j,  0.+0.j,  0.+0.j,  0.+0.j,  0.+0.j,  0.+0.j, -0.+0.j,\n",
              "        -0.+0.j,  0.+0.j,  0.+0.j, -1.+0.j,  0.+0.j,  0.+0.j],\n",
              "       [ 0.+0.j,  0.+0.j,  0.+0.j,  0.+0.j, -0.+0.j,  0.+0.j, -0.+0.j,\n",
              "        -0.+0.j,  0.+0.j,  0.+0.j,  0.+0.j, -1.+0.j,  0.+0.j],\n",
              "       [ 0.+0.j,  0.+0.j,  0.+0.j,  0.+0.j, -0.+0.j,  0.+0.j, -0.+0.j,\n",
              "         0.+0.j,  0.+0.j, -0.+0.j,  0.+0.j, -0.+0.j, -1.+0.j]])"
            ]
          },
          "metadata": {},
          "execution_count": 61
        }
      ]
    }
  ]
}