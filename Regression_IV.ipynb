{
  "nbformat": 4,
  "nbformat_minor": 0,
  "metadata": {
    "colab": {
      "provenance": [],
      "authorship_tag": "ABX9TyNI+KxvvC0S15tXzYGjD8wC",
      "include_colab_link": true
    },
    "kernelspec": {
      "name": "python3",
      "display_name": "Python 3"
    },
    "language_info": {
      "name": "python"
    }
  },
  "cells": [
    {
      "cell_type": "markdown",
      "metadata": {
        "id": "view-in-github",
        "colab_type": "text"
      },
      "source": [
        "<a href=\"https://colab.research.google.com/github/alibagheribardi/Regression/blob/main/Regression_IV.ipynb\" target=\"_parent\"><img src=\"https://colab.research.google.com/assets/colab-badge.svg\" alt=\"Open In Colab\"/></a>"
      ]
    },
    {
      "cell_type": "code",
      "execution_count": null,
      "metadata": {
        "id": "TiLQYTMjVFlq"
      },
      "outputs": [],
      "source": [
        "import pandas as pd\n",
        "import numpy as np\n",
        "import matplotlib.pyplot as plt\n",
        "import seaborn as sns\n",
        "sns.set_style(\"whitegrid\")"
      ]
    },
    {
      "cell_type": "code",
      "source": [
        "nobs = 20\n",
        "high = 10\n",
        "x = np.random.uniform(low = 0, high=high , size = (nobs,))\n",
        "X = np.tile(x[:, np.newaxis], (1, 10))\n",
        "X[:,9] = np.random.uniform(low = 0, high = high, size = (nobs,))\n",
        "y = X.sum(axis=1) + np.random.normal(size = (nobs,))\n"
      ],
      "metadata": {
        "id": "5vy3yIy_a7Uz"
      },
      "execution_count": null,
      "outputs": []
    },
    {
      "cell_type": "code",
      "source": [
        "from sklearn.model_selection import train_test_split\n",
        "X_train, X_test, y_train,y_test = train_test_split(X,y)"
      ],
      "metadata": {
        "id": "9gPXJEoMbYZy"
      },
      "execution_count": null,
      "outputs": []
    },
    {
      "cell_type": "code",
      "source": [
        "from sklearn.linear_model import LinearRegression, Ridge\n",
        "from sklearn.decomposition import PCA\n",
        "from sklearn.pipeline import Pipeline\n",
        "from sklearn.preprocessing import StandardScaler\n",
        "from sklearn.metrics import mean_squared_error as mse"
      ],
      "metadata": {
        "id": "TtaxrQgDcc1y"
      },
      "execution_count": null,
      "outputs": []
    },
    {
      "cell_type": "code",
      "source": [
        "# Instantiate the models. Which ones need scaling?\n",
        "lr = LinearRegression()\n",
        "ridge_pipe = Pipeline([('scale', StandardScaler()), ('ridge', Ridge())])\n",
        "pca_pipe = Pipeline([('scale', StandardScaler()), ('pca', PCA(1)), ('reg', LinearRegression())])\n",
        "\n",
        "# Fit the models to the training data\n",
        "lr.fit(X_train, y_train)\n",
        "ridge_pipe.fit(X_train, y_train)\n",
        "pca_pipe.fit(X_train, y_train)\n",
        "\n",
        "# Find the model predictions on the training set\n",
        "lr_train_preds = lr.predict(X_train)\n",
        "ridge_train_preds = ridge_pipe.predict(X_train)\n",
        "pca_train_preds = pca_pipe.predict(X_train)\n",
        "\n",
        "# Find the model predictions on the test set\n",
        "lr_test_preds = lr.predict(X_test)\n",
        "ridge_test_preds = ridge_pipe.predict(X_test)\n",
        "pca_test_preds = pca_pipe.predict(X_test)\n",
        "\n",
        "# Find the mse on the training set\n",
        "lr_train_mse = mse(y_train, lr_train_preds)\n",
        "ridge_train_mse = mse(y_train, ridge_train_preds)\n",
        "pca_train_mse = mse(y_train, pca_train_preds)\n",
        "\n",
        "# Find the mse on the test set\n",
        "lr_test_mse = mse(y_test, lr_test_preds)\n",
        "ridge_test_mse = mse(y_test, ridge_test_preds)\n",
        "pca_test_mse = mse(y_test, pca_test_preds)\n",
        "\n",
        "# Results\n",
        "print(f\"OLS Training MSE: {lr_train_mse}\")\n",
        "print(f\"Ridge Training MSE: {ridge_train_mse}\")\n",
        "print(f\"PCA Training MSE: {pca_train_mse}\")\n",
        "print(f\"OLS Test MSE: {lr_test_mse}\")\n",
        "print(f\"Ridge Test MSE: {ridge_test_mse}\")\n",
        "print(f\"PCA Test MSE: {pca_test_mse}\")"
      ],
      "metadata": {
        "colab": {
          "base_uri": "https://localhost:8080/"
        },
        "id": "OUGOrDiCcrD5",
        "outputId": "a5da239d-4019-4b70-887b-62ac1683d483"
      },
      "execution_count": null,
      "outputs": [
        {
          "output_type": "stream",
          "name": "stdout",
          "text": [
            "OLS Training MSE: 0.9631885124178546\n",
            "Ridge Training MSE: 1.0293231904504234\n",
            "PCA Training MSE: 9.754568604482468\n",
            "OLS Test MSE: 1.214452361443423\n",
            "Ridge Test MSE: 1.0486805866779745\n",
            "PCA Test MSE: 9.614542755321112\n"
          ]
        }
      ]
    }
  ]
}